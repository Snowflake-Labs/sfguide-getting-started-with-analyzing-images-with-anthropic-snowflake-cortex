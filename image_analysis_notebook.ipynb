{
 "metadata": {
  "kernelspec": {
   "display_name": "Python 3",
   "language": "python",
   "name": "python3"
  },
  "language_info": {
   "codemirror_mode": {
    "name": "ipython",
    "version": 3
   },
   "file_extension": ".py",
   "mimetype": "text/x-python",
   "name": "python",
   "nbconvert_exporter": "python",
   "pygments_lexer": "ipython3",
   "version": "3.8.10"
  },
  "lastEditStatus": {
   "notebookId": "zxdnihg4bpogfr3bkmf4",
   "authorId": "7182812243124",
   "authorName": "JCHAEARLEY",
   "authorEmail": "james.cha-earley@snowflake.com",
   "sessionId": "61b9e8a1-6c86-469d-b1fc-2811e3a32bd7",
   "lastEditTime": 1743718263466
  }
 },
 "nbformat_minor": 4,
 "nbformat": 4,
 "cells": [
  {
   "cell_type": "markdown",
   "metadata": {
    "name": "cell1"
   },
   "source": [
    "# Image Analysis with AI Models\n",
    "\n",
    "This notebook demonstrates how to use Snowflake Cortex to analyze images with AI models like Claude 3.5 Sonnet and Pixtral-large."
   ],
   "id": "ce110000-1111-2222-3333-ffffff000000"
  },
  {
   "cell_type": "markdown",
   "metadata": {
    "name": "cell2"
   },
   "source": [
    "## Setup\n",
    "\n",
    "First, let's import the required packages and set up our session:"
   ],
   "id": "ce110000-1111-2222-3333-ffffff000001"
  },
  {
   "cell_type": "code",
   "execution_count": null,
   "metadata": {
    "name": "cell3",
    "language": "python"
   },
   "outputs": [],
   "source": [
    "# Import required packages\n",
    "import pandas as pd\n",
    "import json\n",
    "from snowflake.snowpark.context import get_active_session\n",
    "\n",
    "\n",
    "# Setup session\n",
    "session = get_active_session()\n",
    "session.use_schema(\"image_analysis\")"
   ],
   "id": "ce110000-1111-2222-3333-ffffff000002"
  },
  {
   "cell_type": "markdown",
   "metadata": {
    "name": "cell4"
   },
   "source": [
    "## View Available Images\n",
    "\n",
    "Let's see what images we have in our table:"
   ],
   "id": "ce110000-1111-2222-3333-ffffff000003"
  },
  {
   "cell_type": "code",
   "execution_count": null,
   "metadata": {
    "name": "cell5",
    "language": "python"
   },
   "outputs": [],
   "source": [
    "# View available images\n",
    "image_df = session.sql(\"SELECT * FROM image_table\").collect()\n",
    "print(f\"Found {len(image_df)} images in the stage\")\n",
    "\n",
    "# Display the first few images\n",
    "for i, row in enumerate(image_df[:3]):\n",
    "    print(f\"Image {i+1}: {row['IMAGE_PATH']}\")"
   ],
   "id": "ce110000-1111-2222-3333-ffffff000004"
  },
  {
   "cell_type": "markdown",
   "metadata": {
    "name": "cell6"
   },
   "source": [
    "## Image Analysis Function\n",
    "\n",
    "Create a function to analyze images with our AI models:"
   ],
   "id": "ce110000-1111-2222-3333-ffffff000005"
  },
  {
   "cell_type": "code",
   "execution_count": null,
   "metadata": {
    "name": "cell7",
    "language": "python"
   },
   "outputs": [],
   "source": "# Function to analyze an image with chosen AI model\ndef analyze_image(image_path, prompt_template, model='claude-3-5-sonnet'):\n    # Escape single quotes in the prompt\n    escaped_prompt = prompt_template.replace(\"'\", \"''\")\n    \n    sql_query = f\"\"\"\n    SELECT \n      SNOWFLAKE.CORTEX.COMPLETE(\n        '{model}', \n        '{escaped_prompt}', \n        TO_FILE('@images', '{image_path}')\n      )\n    \"\"\"\n    result = session.sql(sql_query).collect()\n    return result[0][0]",
   "id": "ce110000-1111-2222-3333-ffffff000006"
  },
  {
   "cell_type": "markdown",
   "metadata": {
    "name": "cell8"
   },
   "source": [
    "## Basic Image Analysis\n",
    "\n",
    "Let's analyze our first image with a custom prompt:"
   ],
   "id": "ce110000-1111-2222-3333-ffffff000007"
  },
  {
   "cell_type": "code",
   "execution_count": null,
   "metadata": {
    "name": "cell9",
    "language": "python"
   },
   "outputs": [],
   "source": "# Example analysis with custom prompt\nif len(image_df) > 0:\n    image_path = image_df[0]['IMAGE_PATH']  # Get first image\n    prompt = \"Describe whats happening in this image in the style of a detective investigating a scene. Be brief but detailed.\"\n\n    analysis = analyze_image(image_path, prompt)\n    print(f\"Analysis for {image_path}:\")\n    print(analysis)\nelse:\n    print(\"No images found in the table.\")",
   "id": "ce110000-1111-2222-3333-ffffff000008"
  },
  {
   "cell_type": "markdown",
   "metadata": {
    "name": "cell10"
   },
   "source": [
    "## Object Detection\n",
    "\n",
    "Now let's identify objects in the image:"
   ],
   "id": "ce110000-1111-2222-3333-ffffff000009"
  },
  {
   "cell_type": "code",
   "execution_count": null,
   "metadata": {
    "name": "cell11",
    "language": "python"
   },
   "outputs": [],
   "source": [
    "# Object detection\n",
    "if len(image_df) > 0:\n",
    "    image_path = image_df[0]['IMAGE_PATH']\n",
    "    object_prompt = \"List all visible objects in this image and count how many there are of each type.\"\n",
    "    object_analysis = analyze_image(image_path, object_prompt)\n",
    "    print(\"Objects detected:\")\n",
    "    print(object_analysis)\n",
    "else:\n",
    "    print(\"No images found in the table.\")"
   ],
   "id": "ce110000-1111-2222-3333-ffffff000010"
  },
  {
   "cell_type": "markdown",
   "metadata": {
    "name": "cell12"
   },
   "source": [
    "## Text Extraction\n",
    "\n",
    "Let's extract any visible text from the image:"
   ],
   "id": "ce110000-1111-2222-3333-ffffff000011"
  },
  {
   "cell_type": "code",
   "execution_count": null,
   "metadata": {
    "name": "cell13",
    "language": "python"
   },
   "outputs": [],
   "source": "# Text extraction\nif len(image_df) > 0:\n    image_path = image_df[0]['IMAGE_PATH']\n    text_prompt = \"Extract and transcribe any visible text in this image. If no text is visible, respond with No text detected.\"\n    text_analysis = analyze_image(image_path, text_prompt)\n    print(\"Text extracted:\")\n    print(text_analysis)\nelse:\n    print(\"No images found in the table.\")",
   "id": "ce110000-1111-2222-3333-ffffff000012"
  },
  {
   "cell_type": "markdown",
   "metadata": {
    "name": "cell14"
   },
   "source": [
    "## Try Different Model\n",
    "\n",
    "Let's compare with the Pixtral-large model:"
   ],
   "id": "ce110000-1111-2222-3333-ffffff000013"
  },
  {
   "cell_type": "code",
   "execution_count": null,
   "metadata": {
    "name": "cell15",
    "language": "python"
   },
   "outputs": [],
   "source": [
    "# Try with Pixtral model\n",
    "if len(image_df) > 0:\n",
    "    image_path = image_df[0]['IMAGE_PATH']\n",
    "    prompt = \"Describe what you see in this image. Be detailed but concise.\"\n",
    "    pixtral_analysis = analyze_image(image_path, prompt, model='pixtral-large')\n",
    "    print(f\"Pixtral analysis for {image_path}:\")\n",
    "    print(pixtral_analysis)\n",
    "else:\n",
    "    print(\"No images found in the table.\")"
   ],
   "id": "ce110000-1111-2222-3333-ffffff000014"
  },
  {
   "cell_type": "markdown",
   "metadata": {
    "name": "cell16"
   },
   "source": [
    "## Image Comparison\n",
    "\n",
    "Let's compare two images and get structured output:"
   ],
   "id": "ce110000-1111-2222-3333-ffffff000015"
  },
  {
   "cell_type": "code",
   "execution_count": null,
   "metadata": {
    "name": "cell17",
    "language": "python"
   },
   "outputs": [],
   "source": "# Compare two images and get structured output\ndef compare_images(image_path1, image_path2, model='claude-3-5-sonnet'):\n    sql_query = f\"\"\"\n    SELECT snowflake.cortex.complete('{model}', \n    Prompt('Compare this image {{0}} to this  image {{1}}. Respond to the following questions in a JSON Object. Background Color: Do the images use a similar or different background color? Color: Do the images use similar or different colors? Mannequin Count: Do the displays have the same number of Mannequins? For each question answer yes or no and a brief 5 word description', \n    TO_FILE('@images', '{image_path1}'), \n    TO_FILE('@images', '{image_path2}')\n    ))\n    \"\"\"\n    \n    result = session.sql(sql_query).collect()\n    \n    return result[0][0]\n\n# Get two images to compare\nif len(image_df) >= 2:\n    image1 = image_df[0]['IMAGE_PATH']\n    image2 = image_df[1]['IMAGE_PATH']\n    \n    print(f\"Comparing {image1} and {image2}:\\n\")\n    comparison_result = compare_images(image1, image2)\n    print(comparison_result)\nelse:\n    print(\"Need at least two images for comparison\")",
   "id": "ce110000-1111-2222-3333-ffffff000016"
  },
  {
   "cell_type": "markdown",
   "metadata": {
    "name": "cell18"
   },
   "source": [
    "## Batch Processing\n",
    "\n",
    "Let's create a system for batch processing multiple images:"
   ],
   "id": "ce110000-1111-2222-3333-ffffff000017"
  },
  {
   "cell_type": "code",
   "execution_count": null,
   "metadata": {
    "name": "cell19",
    "language": "sql"
   },
   "outputs": [],
   "source": "\n-- Create image table from stage\nCREATE OR REPLACE TABLE image_table AS \n(SELECT to_file('@images', RELATIVE_PATH) as img from directory(@images));\n\n-- Process all images with basic classification\nSELECT \n    SNOWFLAKE.CORTEX.COMPLETE('claude-3-5-sonnet',\n    PROMPT('Classify the input image {0} in no more than 2 words. Respond in JSON', img)) as image_classification\nFROM image_table;",
   "id": "ce110000-1111-2222-3333-ffffff000018"
  }
 ]
}